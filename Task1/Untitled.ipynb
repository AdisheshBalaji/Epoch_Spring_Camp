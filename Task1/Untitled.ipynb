{
 "cells": [
  {
   "cell_type": "code",
   "execution_count": 3,
   "id": "6dd86f87",
   "metadata": {},
   "outputs": [
    {
     "name": "stdout",
     "output_type": "stream",
     "text": [
      "True\n",
      "NVIDIA GeForce RTX 4050 Laptop GPU\n"
     ]
    }
   ],
   "source": [
    "import torch\n",
    "print(torch.cuda.is_available())  # Should return True\n",
    "print(torch.cuda.get_device_name(0))  # Your GPU name\n"
   ]
  },
  {
   "cell_type": "code",
   "execution_count": 4,
   "id": "a1e311e4",
   "metadata": {},
   "outputs": [
    {
     "name": "stdout",
     "output_type": "stream",
     "text": [
      "NVIDIA GeForce RTX 4050 Laptop GPU\n",
      "Running on: 0\n",
      "Boom. Matrix multiplied on GPU.\n"
     ]
    }
   ],
   "source": [
    "print(torch.cuda.get_device_name(0))\n",
    "print(\"Running on:\", torch.cuda.current_device())\n",
    "a = torch.rand(10000, 10000).to(\"cuda\")\n",
    "b = torch.mm(a, a)\n",
    "print(\"Boom. Matrix multiplied on GPU.\")\n"
   ]
  },
  {
   "cell_type": "code",
   "execution_count": 5,
   "id": "a518039f",
   "metadata": {},
   "outputs": [
    {
     "name": "stdout",
     "output_type": "stream",
     "text": [
      "GPU Available: True\n",
      "GPU Name: NVIDIA GeForce RTX 4050 Laptop GPU\n",
      "Memory Allocated: 772 MB\n"
     ]
    }
   ],
   "source": [
    "print(f\"GPU Available: {torch.cuda.is_available()}\")\n",
    "print(f\"GPU Name: {torch.cuda.get_device_name(0)}\")\n",
    "print(f\"Memory Allocated: {torch.cuda.memory_allocated() // 1024**2} MB\")\n"
   ]
  },
  {
   "cell_type": "code",
   "execution_count": 6,
   "id": "4fc698d0",
   "metadata": {},
   "outputs": [
    {
     "name": "stdout",
     "output_type": "stream",
     "text": [
      "🔍 Checking CUDA Availability...\n",
      "✅ CUDA is available!\n",
      "GPU Name: NVIDIA GeForce RTX 4050 Laptop GPU\n",
      "Memory Allocated: 772 MB\n",
      "\n",
      "⚡ Matrix Multiplication Benchmark (10,000 x 10,000)...\n",
      "✅ Done in 0.5579 seconds.\n",
      "\n",
      "🧠 Neural Net Warm-up (128x1000 x 2 layers)...\n",
      "✅ 100 forward passes done in 0.0526 seconds.\n",
      "\n",
      "🎯 Flex complete. GPU supremacy confirmed.\n"
     ]
    }
   ],
   "source": [
    "# flex_gpu_demo.ipynb — CUDA GPU Flex Notebook for Maximum Swagger\n",
    "\n",
    "import time\n",
    "\n",
    "print(\"🔍 Checking CUDA Availability...\")\n",
    "if torch.cuda.is_available():\n",
    "    print(\"✅ CUDA is available!\")\n",
    "    print(f\"GPU Name: {torch.cuda.get_device_name(0)}\")\n",
    "    print(f\"Memory Allocated: {torch.cuda.memory_allocated() // 1024**2} MB\")\n",
    "else:\n",
    "    print(\"❌ CUDA not available. Are you on a MacBook?\")\n",
    "    exit()\n",
    "\n",
    "print(\"\\n⚡ Matrix Multiplication Benchmark (10,000 x 10,000)...\")\n",
    "dev = torch.device(\"cuda\")\n",
    "start = time.time()\n",
    "a = torch.randn(10000, 10000, device=dev)\n",
    "b = torch.mm(a, a)\n",
    "torch.cuda.synchronize()\n",
    "print(f\"✅ Done in {round(time.time() - start, 4)} seconds.\")\n",
    "\n",
    "print(\"\\n🧠 Neural Net Warm-up (128x1000 x 2 layers)...\")\n",
    "model = torch.nn.Sequential(\n",
    "    torch.nn.Linear(1000, 1000),\n",
    "    torch.nn.ReLU(),\n",
    "    torch.nn.Linear(1000, 1000)\n",
    ").to(dev)\n",
    "x = torch.randn(128, 1000).to(dev)\n",
    "\n",
    "start = time.time()\n",
    "for _ in range(100):\n",
    "    out = model(x)\n",
    "torch.cuda.synchronize()\n",
    "print(f\"✅ 100 forward passes done in {round(time.time() - start, 4)} seconds.\")\n",
    "\n",
    "print(\"\\n🎯 Flex complete. GPU supremacy confirmed.\")\n"
   ]
  },
  {
   "cell_type": "code",
   "execution_count": 10,
   "id": "0c14be5c",
   "metadata": {},
   "outputs": [
    {
     "name": "stdout",
     "output_type": "stream",
     "text": [
      "Running on: cuda\n",
      "Time taken for 16000x16000 matmul: 1.5741 seconds\n"
     ]
    }
   ],
   "source": [
    "import torch\n",
    "import time\n",
    "\n",
    "# Set the device — CUDA (NVIDIA) or MPS (Apple Silicon) if available\n",
    "if torch.backends.mps.is_available():\n",
    "    device = torch.device(\"mps\")\n",
    "elif torch.cuda.is_available():\n",
    "    device = torch.device(\"cuda\")\n",
    "else:\n",
    "    device = torch.device(\"cpu\")\n",
    "\n",
    "print(f\"Running on: {device}\")\n",
    "\n",
    "# Matrix size (increase for more load)\n",
    "N = 16000 # 4096 is fine too if 8192 causes memory error\n",
    "\n",
    "# Create large random matrices\n",
    "A = torch.randn(N, N, device=device)\n",
    "B = torch.randn(N, N, device=device)\n",
    "\n",
    "# Warm-up run (important for accurate timing on GPU)\n",
    "C = torch.matmul(A, B)\n",
    "torch.cuda.synchronize() if device.type == 'cuda' else None\n",
    "\n",
    "# Time it\n",
    "start = time.time()\n",
    "C = torch.matmul(A, B)\n",
    "torch.cuda.synchronize() if device.type == 'cuda' else None\n",
    "end = time.time()\n",
    "\n",
    "print(f\"Time taken for {N}x{N} matmul: {end - start:.4f} seconds\")"
   ]
  },
  {
   "cell_type": "code",
   "execution_count": 11,
   "id": "37d6d7a0",
   "metadata": {},
   "outputs": [
    {
     "data": {
      "text/plain": [
       "False"
      ]
     },
     "execution_count": 11,
     "metadata": {},
     "output_type": "execute_result"
    }
   ],
   "source": [
    "torch.backends.mps.is_available()"
   ]
  },
  {
   "cell_type": "code",
   "execution_count": 12,
   "id": "f6477002",
   "metadata": {},
   "outputs": [
    {
     "name": "stdout",
     "output_type": "stream",
     "text": [
      "🔍 Testing Devices:\n",
      " - cpu\n",
      " - cuda\n",
      "⏱️ cpu - 512x512 matmul...\n",
      "⏱️ cpu - 1024x1024 matmul...\n",
      "⏱️ cpu - 2048x2048 matmul...\n",
      "⏱️ cpu - 4096x4096 matmul...\n",
      "⏱️ cpu - 8192x8192 matmul...\n",
      "⏱️ cuda - 512x512 matmul...\n",
      "⏱️ cuda - 1024x1024 matmul...\n",
      "⏱️ cuda - 2048x2048 matmul...\n",
      "⏱️ cuda - 4096x4096 matmul...\n",
      "⏱️ cuda - 8192x8192 matmul...\n"
     ]
    },
    {
     "data": {
      "image/png": "[encoded data removed]",
      "text/plain": [
       "<Figure size 640x480 with 1 Axes>"
      ]
     },
     "metadata": {},
     "output_type": "display_data"
    }
   ],
   "source": [
    "import torch\n",
    "import time\n",
    "import matplotlib.pyplot as plt\n",
    "\n",
    "# Check devices\n",
    "devices = [torch.device(\"cpu\")]\n",
    "if torch.backends.mps.is_available():\n",
    "    devices.append(torch.device(\"mps\"))\n",
    "if torch.cuda.is_available():\n",
    "    devices.append(torch.device(\"cuda\"))\n",
    "\n",
    "print(\"🔍 Testing Devices:\")\n",
    "for d in devices:\n",
    "    print(\" -\", d)\n",
    "\n",
    "# Matrix sizes to test\n",
    "sizes = [512, 1024, 2048, 4096, 8192]\n",
    "results = {str(d): [] for d in devices}\n",
    "\n",
    "def benchmark(device, size):\n",
    "    A = torch.randn(size, size, device=device)\n",
    "    B = torch.randn(size, size, device=device)\n",
    "\n",
    "    # Warm-up\n",
    "    _ = torch.matmul(A, B)\n",
    "    if device.type == 'cuda':\n",
    "        torch.cuda.synchronize()\n",
    "    elif device.type == 'mps':\n",
    "        torch.mps.synchronize()\n",
    "\n",
    "    # Timed run\n",
    "    start = time.time()\n",
    "    _ = torch.matmul(A, B)\n",
    "    if device.type == 'cuda':\n",
    "        torch.cuda.synchronize()\n",
    "    elif device.type == 'mps':\n",
    "        torch.mps.synchronize()\n",
    "    end = time.time()\n",
    "\n",
    "    return end - start\n",
    "\n",
    "# Run benchmark\n",
    "for d in devices:\n",
    "    for sz in sizes:\n",
    "        print(f\"⏱️ {d} - {sz}x{sz} matmul...\")\n",
    "        t = benchmark(d, sz)\n",
    "        results[str(d)].append(t)\n",
    "\n",
    "# Plot\n",
    "for label, times in results.items():\n",
    "    plt.plot(sizes, times, marker='o', label=label)\n",
    "\n",
    "plt.xlabel(\"Matrix Size (N x N)\")\n",
    "plt.ylabel(\"Time (seconds)\")\n",
    "plt.title(\"⚡ Matrix Multiplication Benchmark: GPU vs CPU vs Mac MPS\")\n",
    "plt.legend()\n",
    "plt.grid(True)\n",
    "plt.show()\n"
   ]
  },
  {
   "cell_type": "code",
   "execution_count": null,
   "id": "6cb0a283",
   "metadata": {},
   "outputs": [],
   "source": []
  }
 ],
 "metadata": {
  "kernelspec": {
   "display_name": "Python 3 (ipykernel)",
   "language": "python",
   "name": "python3"
  },
  "language_info": {
   "codemirror_mode": {
    "name": "ipython",
    "version": 3
   },
   "file_extension": ".py",
   "mimetype": "text/x-python",
   "name": "python",
   "nbconvert_exporter": "python",
   "pygments_lexer": "ipython3",
   "version": "3.12.3"
  }
 },
 "nbformat": 4,
 "nbformat_minor": 5
}
